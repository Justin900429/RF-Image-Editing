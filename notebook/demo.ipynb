{
 "cells": [
  {
   "cell_type": "code",
   "execution_count": null,
   "id": "0b3cd367",
   "metadata": {},
   "outputs": [],
   "source": [
    "import torch\n",
    "import diffusers\n",
    "from pipeline import RFImageEditingFluxPipeline\n",
    "\n",
    "diffusers.utils.logging.set_verbosity_error()\n",
    "\n",
    "pipe = RFImageEditingFluxPipeline.from_pretrained(\n",
    "    \"black-forest-labs/FLUX.1-dev\",\n",
    "    torch_dtype=torch.bfloat16, \n",
    ")\n",
    "pipe.to(\"cuda\")\n",
    "pipe.add_processor(after_layer=20)\n",
    "\n",
    "source_img = \"assets/source/cartoon.jpg\"\n",
    "source_prompt = \"\"\n",
    "target_prompt = \"a cartoon style Herry Potter raising his left hand \"\n",
    "\n",
    "image = pipe(\n",
    "    source_img,\n",
    "    source_prompt,\n",
    "    target_prompt,\n",
    "    inject_step=2,\n",
    "    guidance_scale=2,\n",
    "    num_inference_steps=25,\n",
    "    with_second_order=True,\n",
    ").images[0]\n",
    "image"
   ]
  }
 ],
 "metadata": {
  "kernelspec": {
   "display_name": ".venv",
   "language": "python",
   "name": "python3"
  },
  "language_info": {
   "codemirror_mode": {
    "name": "ipython",
    "version": 3
   },
   "file_extension": ".py",
   "mimetype": "text/x-python",
   "name": "python",
   "nbconvert_exporter": "python",
   "pygments_lexer": "ipython3",
   "version": "3.12.4"
  }
 },
 "nbformat": 4,
 "nbformat_minor": 5
}
