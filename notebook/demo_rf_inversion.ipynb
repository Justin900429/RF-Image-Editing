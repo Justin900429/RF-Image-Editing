{
 "cells": [
  {
   "cell_type": "code",
   "execution_count": null,
   "id": "af55d310",
   "metadata": {},
   "outputs": [],
   "source": [
    "import os\n",
    "\n",
    "os.environ[\"CUDA_VISIBLE_DEVICES\"] = \"1\"\n",
    "\n",
    "import torch\n",
    "import diffusers\n",
    "from pipeline import RFInversionEditFluxPipeline\n",
    "\n",
    "diffusers.utils.logging.set_verbosity_error()\n",
    "\n",
    "pipe = RFInversionEditFluxPipeline.from_pretrained(\"black-forest-labs/FLUX.1-dev\", torch_dtype=torch.bfloat16)\n",
    "pipe.to(\"cuda\")\n",
    "\n",
    "source_img = \"assets/sources/cat.png\"\n",
    "source_prompt = \"\"\n",
    "target_prompt = \"portrait of a tiger\"\n",
    "\n",
    "image = pipe(\n",
    "    source_img,\n",
    "    source_prompt,\n",
    "    target_prompt,\n",
    "    guidance_scale=3.5,\n",
    "    num_inference_steps=28,\n",
    "    stop_timestep=0.35,\n",
    "    gamma=0.9,\n",
    ").images[0]\n",
    "image.save(\"assets/results/cat_rf_inversion.jpg\")\n",
    "image"
   ]
  },
  {
   "cell_type": "code",
   "execution_count": null,
   "id": "89d51d2b",
   "metadata": {},
   "outputs": [],
   "source": []
  }
 ],
 "metadata": {
  "kernelspec": {
   "display_name": ".venv",
   "language": "python",
   "name": "python3"
  },
  "language_info": {
   "codemirror_mode": {
    "name": "ipython",
    "version": 3
   },
   "file_extension": ".py",
   "mimetype": "text/x-python",
   "name": "python",
   "nbconvert_exporter": "python",
   "pygments_lexer": "ipython3",
   "version": "3.12.4"
  }
 },
 "nbformat": 4,
 "nbformat_minor": 5
}
