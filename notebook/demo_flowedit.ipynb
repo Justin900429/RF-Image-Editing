{
 "cells": [
  {
   "cell_type": "code",
   "execution_count": null,
   "id": "4d22b28c",
   "metadata": {},
   "outputs": [],
   "source": [
    "import diffusers\n",
    "import torch\n",
    "\n",
    "from pipeline import FlowEditFluxPipeline\n",
    "\n",
    "diffusers.utils.logging.set_verbosity_error()\n",
    "\n",
    "pipe = FlowEditFluxPipeline.from_pretrained(\"black-forest-labs/FLUX.1-dev\", torch_dtype=torch.bfloat16)\n",
    "pipe.to(\"cuda\")\n",
    "\n",
    "source_img = \"assets/sources/cat_and_dog.png\"\n",
    "source_prompt = \"A gray cat and a brown dog on a floor, some distance between them. The dog is laying on the floor, while the cat is sitting. The cat is positioned on the left side of the scene, while the dog is on the right side. Both pets looking at the camera.\"\n",
    "target_prompt = \"A raccoon and a brown dog on a floor, some distance between them. The dog is laying on the floor, while the raccoon is sitting. The raccoon is positioned on the left side of the scene, while the dog is on the right side. Both animals looking at the camera.\"\n",
    "\n",
    "image = pipe(\n",
    "    source_img,\n",
    "    source_prompt,\n",
    "    target_prompt,\n",
    "    source_guidance_scale=1.5,\n",
    "    target_guidance_scale=5.5,\n",
    "    interpolate_start_step=0,\n",
    "    interpolate_end_step=24,\n",
    "    num_inference_steps=28,\n",
    ").images[0]\n",
    "image.save(\"assets/results/cat_and_dog_flowedit.jpg\")\n",
    "image"
   ]
  },
  {
   "cell_type": "code",
   "execution_count": null,
   "id": "b16fe961",
   "metadata": {},
   "outputs": [],
   "source": []
  }
 ],
 "metadata": {
  "kernelspec": {
   "display_name": ".venv",
   "language": "python",
   "name": "python3"
  },
  "language_info": {
   "codemirror_mode": {
    "name": "ipython",
    "version": 3
   },
   "file_extension": ".py",
   "mimetype": "text/x-python",
   "name": "python",
   "nbconvert_exporter": "python",
   "pygments_lexer": "ipython3",
   "version": "3.12.4"
  }
 },
 "nbformat": 4,
 "nbformat_minor": 5
}
