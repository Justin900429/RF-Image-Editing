{
 "cells": [
  {
   "cell_type": "code",
   "execution_count": null,
   "id": "13ae7fba",
   "metadata": {},
   "outputs": [],
   "source": [
    "import diffusers\n",
    "import torch\n",
    "\n",
    "from pipeline import FTEditFluxPipeline\n",
    "from processor.ft_editing_attn_processor import FluxAttentionReplace, P2PFlux_JointAttnProcessor2_0\n",
    "\n",
    "diffusers.utils.logging.set_verbosity_error()\n",
    "\n",
    "pipe = FTEditFluxPipeline.from_pretrained(\"black-forest-labs/FLUX.1-dev\", torch_dtype=torch.bfloat16)\n",
    "pipe.to(\"cuda\")\n",
    "\n",
    "source_img = \"assets/sources/coffee.jpg\"\n",
    "source_prompt = \"a cup of coffee with a drawing of a tulip put on the wooden table.\"\n",
    "target_prompt = \"a cup of coffee with a drawing of a lion put on the wooden table.\"\n",
    "prompts = [source_prompt, target_prompt]\n",
    "\n",
    "num_inference_steps = 25\n",
    "controller = FluxAttentionReplace(\n",
    "    prompts=prompts,\n",
    "    num_steps=num_inference_steps,\n",
    "    attn_ratio=0.15,\n",
    "    num_att_layers=37,\n",
    ")\n",
    "pipe.add_processor(\n",
    "    after_layer=0,\n",
    "    before_layer=36,\n",
    "    filter_name=\"transformer_blocks\",\n",
    "    target_processor=P2PFlux_JointAttnProcessor2_0,\n",
    "    controller=controller,  # kwargs for `P2PFlux_JointAttnProcessor2_0`\n",
    ")\n",
    "\n",
    "image = pipe(\n",
    "    source_img,\n",
    "    source_prompt,\n",
    "    target_prompt,\n",
    "    guidance_scale=2,\n",
    "    ly_ratio=1.0,\n",
    "    num_inference_steps=num_inference_steps,\n",
    ").images[0]\n",
    "image.save(\"assets/results/coffee_ftedit.jpg\")\n",
    "image"
   ]
  }
 ],
 "metadata": {
  "kernelspec": {
   "display_name": ".venv",
   "language": "python",
   "name": "python3"
  },
  "language_info": {
   "codemirror_mode": {
    "name": "ipython",
    "version": 3
   },
   "file_extension": ".py",
   "mimetype": "text/x-python",
   "name": "python",
   "nbconvert_exporter": "python",
   "pygments_lexer": "ipython3",
   "version": "3.12.4"
  }
 },
 "nbformat": 4,
 "nbformat_minor": 5
}
