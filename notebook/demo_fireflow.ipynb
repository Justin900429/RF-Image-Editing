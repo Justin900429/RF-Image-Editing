{
 "cells": [
  {
   "cell_type": "code",
   "execution_count": null,
   "id": "39f72173",
   "metadata": {},
   "outputs": [],
   "source": [
    "import os\n",
    "\n",
    "os.environ[\"CUDA_VISIBLE_DEVICES\"] = \"1\"\n",
    "\n",
    "import torch\n",
    "import diffusers\n",
    "from pipeline import FireFlowEditFluxPipeline\n",
    "\n",
    "diffusers.utils.logging.set_verbosity_error()\n",
    "\n",
    "pipe = FireFlowEditFluxPipeline.from_pretrained(\"black-forest-labs/FLUX.1-dev\", torch_dtype=torch.bfloat16)\n",
    "pipe.to(\"cuda\")\n",
    "pipe.add_processor(after_layer=0, before_layer=37, filter_name=\"single_transformer_blocks\")\n",
    "\n",
    "source_img = \"assets/sources/horse.jpg\"\n",
    "source_prompt = \"A young boy is riding a brown horse in a countryside field, with a large tree in the background.\"\n",
    "target_prompt = \"A young boy is riding a camel in a countryside field, with a large tree in the background.\"\n",
    "\n",
    "image = pipe(\n",
    "    source_img,\n",
    "    source_prompt,\n",
    "    target_prompt,\n",
    "    inject_step=1,\n",
    "    guidance_scale=2,\n",
    "    num_inference_steps=8,\n",
    "    with_second_order=True,\n",
    ").images[0]\n",
    "image.save(\"assets/results/horse_fireflow.jpg\")\n",
    "image"
   ]
  }
 ],
 "metadata": {
  "kernelspec": {
   "display_name": ".venv",
   "language": "python",
   "name": "python3"
  },
  "language_info": {
   "codemirror_mode": {
    "name": "ipython",
    "version": 3
   },
   "file_extension": ".py",
   "mimetype": "text/x-python",
   "name": "python",
   "nbconvert_exporter": "python",
   "pygments_lexer": "ipython3",
   "version": "3.12.4"
  }
 },
 "nbformat": 4,
 "nbformat_minor": 5
}
